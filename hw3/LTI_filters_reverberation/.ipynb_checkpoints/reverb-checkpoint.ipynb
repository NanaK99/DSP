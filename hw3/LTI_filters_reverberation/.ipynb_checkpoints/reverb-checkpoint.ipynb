{
 "cells": [
  {
   "cell_type": "code",
   "execution_count": 8,
   "metadata": {},
   "outputs": [],
   "source": [
    "import numpy as np\n",
    "import scipy.io.wavfile as file\n",
    "import scipy.signal as signal\n",
    "import os\n",
    "\n"
   ]
  },
  {
   "cell_type": "code",
   "execution_count": 9,
   "metadata": {},
   "outputs": [],
   "source": [
    "# give a path of mono wav audio\n",
    "path_ = ''\n",
    "# give a path of room impulse response wav \n",
    "rir_ = ''\n",
    "# give a path where the output will be saved\n",
    "out_path_ = ''\n",
    "assert path_!=out_path_, \"inputh and output paths should not coincide\"\n",
    "\n"
   ]
  },
  {
   "cell_type": "code",
   "execution_count": 10,
   "metadata": {},
   "outputs": [],
   "source": [
    "def rir_filter(a, rir_path, sample_rate):\n",
    "    # a: input audio path\n",
    "    # rir_path: path of room impulse response \n",
    "    # sample_rate: input audio sampling rate\n",
    "    sr, ir_data = file.read(rir_path)\n",
    "    assert sr==sample_rate, 'check sample rate'\n",
    "    ir_data = ir_data.astype('float')\n",
    "    # normalize impulse response data to avoid big changes of volume\n",
    "    ir_data = 1.0005 * ir_data / np.sqrt(\n",
    "        np.sum(ir_data ** 2)) \n",
    "    conv_data = signal.fftconvolve(a, ir_data)\n",
    "    return conv_data[0: len(a)]"
   ]
  },
  {
   "cell_type": "code",
   "execution_count": 11,
   "metadata": {},
   "outputs": [],
   "source": [
    "# here we read the audio data, apply reverberation and save the output\n",
    "sr, d = file.read(path_)\n",
    "d = d.astype('float')\n",
    "d_rir = rir_filter(d, rir_, sr)\n",
    "file.write(out_path_, sr, d_rir.astype('int16'))"
   ]
  },
  {
   "cell_type": "code",
   "execution_count": null,
   "metadata": {},
   "outputs": [],
   "source": []
  },
  {
   "cell_type": "code",
   "execution_count": null,
   "metadata": {},
   "outputs": [],
   "source": []
  },
  {
   "cell_type": "code",
   "execution_count": null,
   "metadata": {},
   "outputs": [],
   "source": []
  }
 ],
 "metadata": {
  "kernelspec": {
   "display_name": "Python 3 (ipykernel)",
   "language": "python",
   "name": "python3"
  },
  "language_info": {
   "codemirror_mode": {
    "name": "ipython",
    "version": 3
   },
   "file_extension": ".py",
   "mimetype": "text/x-python",
   "name": "python",
   "nbconvert_exporter": "python",
   "pygments_lexer": "ipython3",
   "version": "3.9.13"
  }
 },
 "nbformat": 4,
 "nbformat_minor": 4
}
